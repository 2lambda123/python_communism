{
  "cells": [
    {
      "cell_type": "markdown",
      "metadata": {
        "id": "TH_2XqqxC79_"
      },
      "source": [
        "# Part 1 - Setup\n",
        "## Start by Cloning the \"Python Communist Revolution\" Library"
      ]
    },
    {
      "cell_type": "code",
      "execution_count": null,
      "metadata": {
        "colab": {
          "base_uri": "https://localhost:8080/"
        },
        "id": "mdrs5X5HC2nO",
        "outputId": "fd0f08c0-f9eb-497c-a409-eb4dbaf98136"
      },
      "outputs": [],
      "source": [
        "!git clone https://github.com/jokteur/python_communism.git"
      ]
    },
    {
      "cell_type": "markdown",
      "metadata": {
        "id": "4YeQbVTzDZpY"
      },
      "source": [
        "## Install the newly cloned library using pip"
      ]
    },
    {
      "cell_type": "code",
      "execution_count": null,
      "metadata": {
        "colab": {
          "base_uri": "https://localhost:8080/"
        },
        "id": "km5rg-z5DNva",
        "outputId": "605a11f1-9962-49e6-89ff-2c866b714fbe"
      },
      "outputs": [],
      "source": [
        "!pip install ./python_communism/"
      ]
    },
    {
      "cell_type": "markdown",
      "metadata": {
        "id": "YwbHqCv1GQwI"
      },
      "source": [
        "## Import the library"
      ]
    },
    {
      "cell_type": "code",
      "execution_count": null,
      "metadata": {
        "id": "R7tFu3PTDyXV"
      },
      "outputs": [],
      "source": [
        "import communism"
      ]
    },
    {
      "cell_type": "markdown",
      "metadata": {
        "id": "Lo1bPkoyGm-I"
      },
      "source": [
        "# Part 2 - Start the Communist revolution\n",
        "\n",
        "## Start the revolution\n",
        "\n",
        "*Both for the production on a mass scale of this communist consciousness, and ... the alteration of men on a mass scale is, necessary, ... a revolution; this revolution is necessary, therefore, not only because the ruling class cannot be overthrown in any other way, but also because the class overthrowing it can only in a revolution succeed in ridding itself of all the muck of ages and become fitted to found society anew.*\n",
        "\n",
        "*Marx, German Ideology (1845)*"
      ]
    },
    {
      "cell_type": "markdown",
      "metadata": {
        "id": "rjAGKC4yUsUv"
      },
      "source": [
        "## Let's create some classes. Classes are the foundation of society, but they result in a huge inequality that's why we will try to abolish them."
      ]
    },
    {
      "cell_type": "code",
      "execution_count": null,
      "metadata": {
        "id": "4Vn6p0fiJl3e"
      },
      "outputs": [],
      "source": [
        "class OrdinaryPeople:\n",
        "  def __str__(self):\n",
        "    return 'We are the normal people.'\n",
        "\n",
        "\n",
        "class WorkingClassHeroes:\n",
        "  def __str__(self):\n",
        "    import base64\n",
        "    import zlib\n",
        "\n",
        "    compressed_data = b'x\\xda\\xbd\\x95O\\x8f\\x9b0\\x10\\xc5\\xef\\xfe4\\x046\\xd2\\xe6\\xb8\\xa0\\x8d\\x03\\xd9 %Q\\xf8\\xe3\\x1b\\xc6+g\\x17\\x1bPIH\\xe0\\xd3\\xf7\\x19H\\xbaU\\x95V\\xed\\xa1\\xb7\\xc863o~\\xf3f\\xb2M62\\xb7\\x17-\\xffp\\x8fy\\xe7\\xce\\xb9s(s}\\x90\\xa9^t\\xfc\\xe3\"\\x05=\\xaa\\xf7\\xbd{J\\xe3\\x93\\xf2W\\xaa\\x15{W\\xb38j\\xfcU\\x88\\xb3k\\xe3\\x15\\xc1\\xdc\\xa7\\xa2\\x16Z\\x9d\\t\\x1b\\x03H\\xae\\x9f\\xf1\\xa1:\\xb1\\xbd[\\xf32\\xb4X\\xbc,|\\xba\\xd0>U\\x96O\\x97\\r\\x7f\\xa9\\xca\\x88*\\x04\\xd9UxsIcu\\xc6]\\x8f\\xa0\\xadO\\x83\\xda\\xc4!&\\x10\\xd3\\x91\\xe2\\x9e{\\xe6\\xce\\xae\\xca\\xe2y\\x89\\x8f\\xa7\\x00\\xb5\\xeb\\xafD\\x9b\\xebS\\xcdu.S\\xfbz\\xcc\\x9d\\x8d\\xcch\\xd4\\xf1\\xce\\xadQI\\xcf\\xed\\x99\\x82\\xfa\\xe1\\x9e\\x08\\xfa\\x8c\\x92\\x0e\\xeb\\xed\\xdeu\\xb8\\x13|\\x1b\\x83\\x85M\\x9a\\x84\\xbd\\x8f\\x12s(\\xceF\\x14\\'\\x96L\\xc9V;\\xa3Fy\\xb2ZG#\\x86J$\\x81E&\\x0eG\\xe1\\xb9\\x95\\xc9\\x02Eg\\xe6\\xb9\\x16\\xb2\\x83\\xc5\\xb1\\xc6\\xf9\\x80!M\\xb6\\x08\\x18\\xe2\\xcd\\xa2\\xf1\\x14JM\\n(\\\\Z(y\\xb8\\xcf\\xe2T\\x92\\xf7x1\\x0b\\x9c@\\x195,a*G#\\xb8\\xde\\xde\\xc0\\x17,\\t/Y\\x12\\xe2\\xfe\\x158\\xd0\\xa8;;#Bt\\x08\\xd6\\xa3d-\\xe2\\xf0\\x1b\\x99\\xca\\xea\\xd2\\xa4\\x9eO*?\\xd3\\xf8\\xa9\\x84\"\\xcd\\xedk\\xc3\\x9d|\\x08\\x9c%\\xbe\\xcc\\xcb\\x08\\t7\\x0f\\x91\\x90\\xdf2)^\\xa5\\xb0\\x17]f\\xab3\\xba\\xf5\\xc9\\xe9\\xb2\\x07t\\x94\\x18\\xb4\\xb7N\\xf28\\x02\\x92\\xe1\\xde\"\\x90\\xf8\\xc1\\xb6\\xd5\\xdaS\\xa2b\\xf1\\xd3T\\x9e\\xb0!\\xdfBv\\x0b`\\x15\\x18\\x0e\\xa5\\x83\\xd91\\xd7Qq\\xf3\\x1bw|\\xb9\\xf9|\\x91\\xdc\\xde\\x993E\\xd2$\\xe8\\x07\\xa0\\xf7@\\xaez_\\xb9*u\\xb6\\xd2\\xf0\\x1cT\\xae\\xdc:\\xb5\\x1b\\x99\\x1a\\x04&x\\xe2\\xaf#\\xfb\\xa8`\\xf4\\xb19\\xf6\\xf2\\x1c\\xe0=\\xca\\x8c\\x8e\\x9c^\\xd196\\xe3:\\xb4\\xb2xq~\\xf3~LBn?K\\x06V\\xf0a\\xcb>\\x8c\\xfb\\x97\\xdd\\xa3\\xf2\\xc9\\xa3\\xfa\\xc7\\xf2\\xff\\xd1\\xb4\\x9e\\xac\\xdf0s\\x97\\x89G\\xc1\\x1d\\xd7\\xb0r24\\xc5_\\x05\\x8aSU\\x1a\\xd5\\x93\\x0f{\\x96H\\x99\\xc6\\xf3\\xc2_\\xeeb\\xaf\\x18\\xce\\xc6q\\x1a#7\\xf2\\xee\\xb9a\\xde~\\xf6\\xdd\\xa8\\xca\\x9c\\x19\\x1b\\x0c\\x1fk B\\xc7\\x83\\xd9d\\xec\\x92\\x0c\\\\\\x9c]\\xcd\\xe9\\xc5\\xb0\\xf9\\x9c8\\\\\\xc0\\xa6Gf\\x0b\\xa5\\x98m\\xa2S\\xf8,\\x85\\x85\\xf6\\xa3\\x0f\\xc12\\xfa\\xc5:\\xe4O\\xde\\xf9\\x1bv\\xe4\\x06\\xef\\x0b\\xbb\\x83y\\xc4\\xf6\\x02\\x81\\x83\\x96\\xdb\\xd60\\x97\\xc66\\xc6&\\xf9}n\\x97f\\x94\\xb0\\xaa\\xae\\xcdht\\xd5\\x12\\xc0\\xee\\xb1\\xc7\\xcc\\xba\\xf1\\x04>bZu\\xf9\\xcdct63\\xbf9\\x8d`\\xd6\\'(Y8\\xa3\\xef\\xc2S\\x16_\\xcdR\\xe8\\xa7\\x86a\\xb4\\xae\\r\\xf1\\n\\xa5\\xa7\\x03\\xc70\\xba\\x8d\\x92O\\xafuf\\x1fFE\\x94\\xb5\\x9c\\x9e\\x00\\x1e\\xdd\\x1c\\x97c\\x95\\r[\\xf6?3\\x0b\\xd84&\\x02c\\x82\\xb6\\x8f\\x01\\xb1\\xf3\\xa6e\\x89\\xf5#\\xe0\\xbbK\\xe3\\xd3z\\xc0\\x80\\xd5\\xd4p  \\xe0\\xa2\\x1e\\x97\\xfa:e\\xc7\\x1f\\x8bmF\\xea\"\\xb32\\xea\\xbf\\xae\\'\\x1e\\x1f\\xd6\\xe4;\\'\\x1cA%'\n",
        "    uncompressed_string = str(base64.decodebytes(zlib.decompress(compressed_data)), encoding='ascii')\n",
        "    return uncompressed_string\n",
        "\n",
        "\n",
        "class Intellectuals:\n",
        "  def __str__(self):\n",
        "    return 'We are the Intellectuals, pretentious and we know it.'\n",
        "\n",
        "\n",
        "class Elites:\n",
        "  def __str__(self):\n",
        "    # according to a new report highlighting the growing gap between the super-rich and everyone else\n",
        "    # https://www.theguardian.com/inequality/2017/nov/14/worlds-richest-wealth-credit-suisse\n",
        "    return 'We are the richest 1% that own half the world\\'s wealth.'\n",
        "\n"
      ]
    },
    {
      "cell_type": "markdown",
      "metadata": {
        "id": "mjjZ62sFVGi_"
      },
      "source": [
        "## Now that the classes are created, look how Python internally stores them"
      ]
    },
    {
      "cell_type": "code",
      "execution_count": null,
      "metadata": {
        "colab": {
          "base_uri": "https://localhost:8080/"
        },
        "id": "DkKKwQPEVMiI",
        "outputId": "54226931-6790-47fc-eb9d-1df7e13a1db6"
      },
      "outputs": [],
      "source": [
        "print('That\\'s how Python works internally, it stores the variables and classes you define inside a dictionary.\\n\\n')\n",
        "\n",
        "# Find the intersection between the global variables dictionnary and our set of class names\n",
        "# Similar to globals().keys().intersect(('OrdinaryPeople', 'WorkingClassHeroes', 'Intellectuals', 'Elites'))\n",
        "our_vars = globals().keys() & {'OrdinaryPeople', 'WorkingClassHeroes', 'Intellectuals', 'Elites'}\n",
        "\n",
        "\n",
        "for k in our_vars:\n",
        "  v = globals().get(k)\n",
        "  print(f'--- The class {k} is now stored in the current scope\\'s global variables dictionnary and represented as:\\n{v}\\n')"
      ]
    },
    {
      "cell_type": "markdown",
      "metadata": {
        "id": "rKEI7awuZ92e"
      },
      "source": [
        "## Look what each class say about themselves"
      ]
    },
    {
      "cell_type": "code",
      "execution_count": null,
      "metadata": {
        "colab": {
          "base_uri": "https://localhost:8080/"
        },
        "id": "kNcTllHUaCb6",
        "outputId": "70c9f8c6-ab97-4406-caad-0e0798883f62"
      },
      "outputs": [],
      "source": [
        "print(f'OrdinaryPeople say: {OrdinaryPeople()}', end='\\n\\n')\n",
        "print(f'Intellectuals say: {Intellectuals()}', end='\\n\\n')\n",
        "print(f'Elites say: {Elites()}', end='\\n\\n')\n"
      ]
    },
    {
      "cell_type": "markdown",
      "metadata": {
        "id": "qa1UN4waaa0K"
      },
      "source": [
        "## Can you guess what the WorkingClassHeroes say??\n",
        "\n",
        "uncomment the line below to know"
      ]
    },
    {
      "cell_type": "code",
      "execution_count": null,
      "metadata": {
        "id": "JaScQ0DGaYWX"
      },
      "outputs": [],
      "source": [
        "# print(f'WorkingClassHeroes say: {WorkingClassHeroes()}', end='\\n\\n')"
      ]
    },
    {
      "cell_type": "markdown",
      "metadata": {
        "id": "hSTBopN-XVQt"
      },
      "source": [
        "## Let's look at the inequality between classes"
      ]
    },
    {
      "cell_type": "code",
      "execution_count": null,
      "metadata": {
        "colab": {
          "base_uri": "https://localhost:8080/"
        },
        "id": "r8b_U0NQXgew",
        "outputId": "0218f868-0395-4772-9e99-e2042ab41743"
      },
      "outputs": [],
      "source": [
        "print(\"Are OrdinaryPeople equal to the WorkingClassHeroes?\")\n",
        "print(f\"OrdinaryPeople() == WorkingClassHeroes() => {OrdinaryPeople() == WorkingClassHeroes()}\", end='\\n\\n')\n",
        "\n",
        "print(\"Are OrdinaryPeople equal to the Elites ?\")\n",
        "print(f\"OrdinaryPeople() == Elites () => {OrdinaryPeople() == Elites()}\", end='\\n\\n')\n",
        "\n",
        "print(\"Are OrdinaryPeople equal to the Intellectuals?\")\n",
        "print(f\"OrdinaryPeople() == Intellectuals() => {OrdinaryPeople() == Intellectuals()}\", end='\\n\\n')\n",
        "\n",
        "print(\"Are WorkingClassHeroes equal to the Elites ?\")\n",
        "print(f\"WorkingClassHeroes() == Elites () => {WorkingClassHeroes() == Elites()}\", end='\\n\\n')\n",
        "\n",
        "print(\"Are WorkingClassHeroes equal to the Intellectuals?\")\n",
        "print(f\"WorkingClassHeroes() == Intellectuals() => {WorkingClassHeroes() == Intellectuals()}\", end='\\n\\n')\n",
        "\n",
        "print(\"Are Intellectuals equal to the Elites ?\")\n",
        "print(f\"Intellectuals() == Elites () => {Intellectuals() == Elites()}\", end='\\n\\n')"
      ]
    },
    {
      "cell_type": "markdown",
      "metadata": {
        "id": "ElJ43b0TZVgi"
      },
      "source": [
        "## Now the revolution will kick-in!"
      ]
    },
    {
      "cell_type": "code",
      "execution_count": null,
      "metadata": {
        "colab": {
          "base_uri": "https://localhost:8080/"
        },
        "id": "hsATqOL2JKJq",
        "outputId": "21b877ab-58ae-4cce-9f8e-8fc3e42100b6"
      },
      "outputs": [],
      "source": [
        "communism.revolution(globals()) "
      ]
    },
    {
      "cell_type": "markdown",
      "metadata": {
        "id": "bIgeXuYbZjnf"
      },
      "source": [
        "## Let's look again if inequality remains"
      ]
    },
    {
      "cell_type": "code",
      "execution_count": null,
      "metadata": {
        "colab": {
          "base_uri": "https://localhost:8080/"
        },
        "id": "N5Y-0qEtZpQ-",
        "outputId": "95afa13d-cd33-4850-ed02-20b99cc54b7e"
      },
      "outputs": [],
      "source": [
        "print(\"Are OrdinaryPeople equal to the WorkingClassHeroes?\")\n",
        "print(f\"OrdinaryPeople() == WorkingClassHeroes() => {OrdinaryPeople() == WorkingClassHeroes()}\", end='\\n\\n')\n",
        "\n",
        "print(\"Are OrdinaryPeople equal to the Elites ?\")\n",
        "print(f\"OrdinaryPeople() == Elites() => {OrdinaryPeople() == Elites()}\", end='\\n\\n')\n",
        "\n",
        "print(\"Are OrdinaryPeople equal to the Intellectuals?\")\n",
        "print(f\"OrdinaryPeople() == Intellectuals() => {OrdinaryPeople() == Intellectuals()}\", end='\\n\\n')\n",
        "\n",
        "print(\"Are WorkingClassHeroes equal to the Elites ?\")\n",
        "print(f\"WorkingClassHeroes() == Elites() => {WorkingClassHeroes() == Elites()}\", end='\\n\\n')\n",
        "\n",
        "print(\"Are WorkingClassHeroes equal to the Intellectuals?\")\n",
        "print(f\"WorkingClassHeroes() == Intellectuals() => {WorkingClassHeroes() == Intellectuals()}\", end='\\n\\n')\n",
        "\n",
        "print(\"Are Intellectuals equal to the Elites ?\")\n",
        "print(f\"Intellectuals() == Elites() => {Intellectuals() == Elites()}\", end='\\n\\n')"
      ]
    },
    {
      "cell_type": "markdown",
      "metadata": {
        "id": "rDP5zlllZsq1"
      },
      "source": [
        "## Now all classes are equal in the eye of Python 😀"
      ]
    },
    {
      "cell_type": "markdown",
      "metadata": {
        "id": "DbyGaIZPkN0y"
      },
      "source": [
        "## But wait there's a catch here...\n",
        "\n",
        "let's look at the new rising classes"
      ]
    },
    {
      "cell_type": "code",
      "execution_count": null,
      "metadata": {
        "id": "f5hHqpFTR70m"
      },
      "outputs": [],
      "source": [
        "class RisingElites:\n",
        "  pass\n",
        "\n",
        "class Oligarchs:\n",
        "  pass\n",
        "\n",
        "class FactoryWorkers:\n",
        "  pass"
      ]
    },
    {
      "cell_type": "markdown",
      "metadata": {
        "id": "_8fWEbbkmvRv"
      },
      "source": [
        "## The new classes that surfaced after the revolution, will give the impression that they are equal to the other classes. But when we compare them together, we notice that inequality is back again."
      ]
    },
    {
      "cell_type": "code",
      "execution_count": null,
      "metadata": {
        "colab": {
          "base_uri": "https://localhost:8080/"
        },
        "id": "6sWeMYHOm8-I",
        "outputId": "bc16fa32-ef4b-4bef-97d6-bb5763805492"
      },
      "outputs": [],
      "source": [
        "print(f'The RisingElites will claim that they are equal to the OrdinaryPeople.')\n",
        "print(f\"RisingElites() == OrdinaryPeople() => {RisingElites() == OrdinaryPeople()}\", end='\\n\\n')\n",
        "\n",
        "print(f'But when we compare the RisingElites to the FactoryWorkers, we discover that they are not equal.')\n",
        "print(f\"RisingElites() == FactoryWorkers() => {RisingElites() == FactoryWorkers()}\", end='\\n\\n')\n",
        "\n",
        "print(f'Same for the new Oligarchs and FactoryWorkers:')\n",
        "print(f\"Oligarchs() == FactoryWorkers() => {Oligarchs() == FactoryWorkers()}\", end='\\n\\n')"
      ]
    },
    {
      "cell_type": "markdown",
      "metadata": {
        "id": "3zmTK7-woGVj"
      },
      "source": [
        "## Did we just crush a group of people, and left room from new inequalities to surface?"
      ]
    },
    {
      "cell_type": "markdown",
      "metadata": {
        "id": "PSedUFBvoVtV"
      },
      "source": [
        "If you look how the [communism](https://github.com/jokteur/python_communism/blob/main/communism.py) library works, it actually crushes the classes that already exists in the global scope, but it has no effect on the new classes that are created after the revolution (after calling the *revolution()* function)"
      ]
    },
    {
      "cell_type": "markdown",
      "metadata": {
        "id": "j1PGjiglo4Dl"
      },
      "source": [
        "# Part 3 - Key takeaways"
      ]
    },
    {
      "cell_type": "markdown",
      "metadata": {
        "id": "mtMjLOvtpkom"
      },
      "source": [
        "* Revolutions that rely only on crushing others and setting one class against the other are destined to fail. \n",
        "The cultural revolution is a good example"
      ]
    },
    {
      "cell_type": "markdown",
      "metadata": {
        "id": "OGYLQ5PLqov8"
      },
      "source": [
        "* Overriding the  \\_\\_eq\\_\\_() and \\_\\_hash\\_\\_() functions of a class can give the impression of equality but deepper issues will arise"
      ]
    },
    {
      "cell_type": "markdown",
      "metadata": {
        "id": "pdpjq1fZrQME"
      },
      "source": [
        "* Perhaps the old models have proved not to be very suitable for our days to shape a global society that is as dynamic and as exposed as ever. "
      ]
    },
    {
      "cell_type": "code",
      "execution_count": null,
      "metadata": {
        "id": "wI0fzQEdltGJ"
      },
      "outputs": [],
      "source": []
    }
  ],
  "metadata": {
    "colab": {
      "collapsed_sections": [],
      "name": "The_Python_Communist_Revolution_Notebook.ipynb",
      "provenance": []
    },
    "kernelspec": {
      "display_name": "Python 3",
      "name": "python3"
    },
    "language_info": {
      "name": "python",
      "version": "3.9.7"
    }
  },
  "nbformat": 4,
  "nbformat_minor": 0
}
